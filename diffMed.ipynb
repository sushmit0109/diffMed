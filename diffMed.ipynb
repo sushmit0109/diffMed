!git clone https://github.com/justinpinkney/stable-diffusion.git
%cd stable-diffusion
!pip install --upgrade pip
!pip install -r requirements.txt

!pip install --upgrade keras 
!pip uninstall -y torchtext 



# Check the dataset
from datasets import load_dataset
ds = load_dataset("sushmit/diffMed", split="train")


sample = ds[0]
display(sample["image"].resize((256, 256)))
print(sample["text"])
     
!pip install huggingface_hub
from huggingface_hub import notebook_login

notebook_login()
from huggingface_hub import hf_hub_download
ckpt_path = hf_hub_download(repo_id="CompVis/stable-diffusion-v-1-4-original", filename="sd-v1-4-full-ema.ckpt", use_auth_token=True)

BATCH_SIZE = 4
N_GPUS = 1
ACCUMULATE_BATCHES = 1

gpu_list = ",".join((str(x) for x in range(N_GPUS))) + ","
print(f"Using GPUs: {gpu_list}"
      
!(python main.py \
    -t \
    --base configs/stable-diffusion/diffMed.yaml \
    --gpus "$gpu_list" \
    --scale_lr False \
    --num_nodes 1 \
    --check_val_every_n_epoch 10 \
    --finetune_from "$ckpt_path" \
    data.params.batch_size="$BATCH_SIZE" \
    lightning.trainer.accumulate_grad_batches="$ACCUMULATE_BATCHES" \
    data.params.validation.params.n_gpus="$NUM_GPUS" \
)
     

!(python scripts/txt2img.py \
    --prompt 'Slice 40 CT for a 40 year old Female Patient having lesion of type 3.' \
    --outdir 'outputs/sushmitMed' \
    --H 256 --W 256 \
    --n_samples 4 \
    --config 'configs/stable-diffusion/sushmitMed.yaml' \
    --ckpt 'path/to/your/checkpoint')
     
